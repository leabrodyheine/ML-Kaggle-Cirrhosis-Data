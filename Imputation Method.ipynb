{
 "cells": [
  {
   "cell_type": "code",
   "execution_count": 1,
   "id": "c95b1b71",
   "metadata": {},
   "outputs": [
    {
     "ename": "NameError",
     "evalue": "name 'raw_training_data' is not defined",
     "output_type": "error",
     "traceback": [
      "\u001b[0;31m---------------------------------------------------------------------------\u001b[0m",
      "\u001b[0;31mNameError\u001b[0m                                 Traceback (most recent call last)",
      "Cell \u001b[0;32mIn[1], line 4\u001b[0m\n\u001b[1;32m      1\u001b[0m \u001b[38;5;28;01mimport\u001b[39;00m \u001b[38;5;21;01mrandom\u001b[39;00m\n\u001b[1;32m      3\u001b[0m random\u001b[38;5;241m.\u001b[39mseed(\u001b[38;5;241m25\u001b[39m) \u001b[38;5;66;03m# set a random seed\u001b[39;00m\n\u001b[0;32m----> 4\u001b[0m copy_raw_training_data \u001b[38;5;241m=\u001b[39m \u001b[43mraw_training_data\u001b[49m\u001b[38;5;241m.\u001b[39mcopy()  \u001b[38;5;66;03m# copy the raw training data\u001b[39;00m\n\u001b[1;32m      5\u001b[0m shape \u001b[38;5;241m=\u001b[39m copy_raw_training_data\u001b[38;5;241m.\u001b[39mshape  \u001b[38;5;66;03m# store dimension of raw training data\u001b[39;00m\n\u001b[1;32m      6\u001b[0m num_entries \u001b[38;5;241m=\u001b[39m shape[\u001b[38;5;241m0\u001b[39m] \u001b[38;5;241m*\u001b[39m (shape[\u001b[38;5;241m1\u001b[39m] \u001b[38;5;241m-\u001b[39m \u001b[38;5;241m1\u001b[39m)  \u001b[38;5;66;03m# store number of entries for all independent variables\u001b[39;00m\n",
      "\u001b[0;31mNameError\u001b[0m: name 'raw_training_data' is not defined"
     ]
    }
   ],
   "source": [
    "import random\n",
    "\n",
    "random.seed(25) # set a random seed\n",
    "copy_raw_training_data = raw_training_data.copy()  # copy the raw training data\n",
    "shape = copy_raw_training_data.shape  # store dimension of raw training data\n",
    "num_entries = shape[0] * (shape[1] - 1)  # store number of entries for all independent variables\n",
    "num_null = int(num_entries * 0.01)  # make 1% of the data be null entries\n",
    "\n",
    "# randomly select entries and replace them with NaN, excluding the response variable\n",
    "for _ in range(num_null):\n",
    "    rand_row, rand_col = random.randint(0, shape[0] - 1) , random.randint(0, shape[1] - 2) # select a random row and column\n",
    "    copy_raw_training_data.iloc[rand_row, rand_col] = np.nan # store entry as nan\n",
    "    \n",
    "# create a list to store all of the entries which are null: (row, column)\n",
    "null_entries = [(row_index, col_index) \n",
    "                for row_index, row in enumerate(copy_raw_training_data.values) \n",
    "                for col_index, val in enumerate(row) \n",
    "                if pd.isnull(val)]"
   ]
  },
  {
   "cell_type": "code",
   "execution_count": 2,
   "id": "03e63b81",
   "metadata": {},
   "outputs": [
    {
     "ename": "NameError",
     "evalue": "name 'copy_raw_training_data' is not defined",
     "output_type": "error",
     "traceback": [
      "\u001b[0;31m---------------------------------------------------------------------------\u001b[0m",
      "\u001b[0;31mNameError\u001b[0m                                 Traceback (most recent call last)",
      "Cell \u001b[0;32mIn[2], line 2\u001b[0m\n\u001b[1;32m      1\u001b[0m \u001b[38;5;66;03m# identify the numerical and categorical columns\u001b[39;00m\n\u001b[0;32m----> 2\u001b[0m num_cols \u001b[38;5;241m=\u001b[39m \u001b[43mcopy_raw_training_data\u001b[49m\u001b[38;5;241m.\u001b[39mselect_dtypes(include\u001b[38;5;241m=\u001b[39m\u001b[38;5;124m'\u001b[39m\u001b[38;5;124mnumber\u001b[39m\u001b[38;5;124m'\u001b[39m)\u001b[38;5;241m.\u001b[39mcolumns\n\u001b[1;32m      3\u001b[0m categorical_cols \u001b[38;5;241m=\u001b[39m copy_raw_training_data\u001b[38;5;241m.\u001b[39mselect_dtypes(include\u001b[38;5;241m=\u001b[39m\u001b[38;5;124m'\u001b[39m\u001b[38;5;124mobject\u001b[39m\u001b[38;5;124m'\u001b[39m)\u001b[38;5;241m.\u001b[39mcolumns\n\u001b[1;32m      5\u001b[0m \u001b[38;5;66;03m# impute numerical missing values with median\u001b[39;00m\n",
      "\u001b[0;31mNameError\u001b[0m: name 'copy_raw_training_data' is not defined"
     ]
    }
   ],
   "source": [
    "# identify the numerical and categorical columns\n",
    "num_cols = copy_raw_training_data.select_dtypes(include='number').columns\n",
    "categorical_cols = copy_raw_training_data.select_dtypes(include='object').columns\n",
    "\n",
    "# impute numerical missing values with median\n",
    "copy_raw_training_data[num_cols] = copy_raw_training_data[numerical_columns].fillna(copy_raw_training_data[num_cols].median())\n",
    "\n",
    "# impute categorical missing values with mode\n",
    "copy_raw_training_data[categorical_columns] = copy_raw_training_data[categorical_columns].fillna(copy_raw_training_data[categorical_columns].mode().iloc[0])"
   ]
  },
  {
   "cell_type": "code",
   "execution_count": null,
   "id": "bd83dfa2",
   "metadata": {},
   "outputs": [],
   "source": [
    "# store all of the entries for the original data set\n",
    "actual_entries_store = []\n",
    "for row, col in null_entries:\n",
    "    actual_entries_store.append(raw_training_data.iloc[row, col])\n",
    "\n",
    "# store all of the imputed entries for first imputation method\n",
    "imputed1_entries_store = []\n",
    "for row, col in null_entries:\n",
    "    imputed1_entries_store.append(copy_raw_training_data.iloc[row, col])"
   ]
  }
 ],
 "metadata": {
  "kernelspec": {
   "display_name": "Python 3 (ipykernel)",
   "language": "python",
   "name": "python3"
  },
  "language_info": {
   "codemirror_mode": {
    "name": "ipython",
    "version": 3
   },
   "file_extension": ".py",
   "mimetype": "text/x-python",
   "name": "python",
   "nbconvert_exporter": "python",
   "pygments_lexer": "ipython3",
   "version": "3.10.10"
  }
 },
 "nbformat": 4,
 "nbformat_minor": 5
}
